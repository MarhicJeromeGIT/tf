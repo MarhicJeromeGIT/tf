{
 "cells": [
  {
   "cell_type": "code",
   "execution_count": 1,
   "metadata": {
    "colab": {},
    "colab_type": "code",
    "id": "0trJmd6DjqBZ"
   },
   "outputs": [
    {
     "name": "stdout",
     "output_type": "stream",
     "text": [
      "Requirement already satisfied: tensorflow==2.0.0-alpha0 in /home/jerome/.local/share/virtualenvs/tf-buoNMj2w/lib/python3.6/site-packages (2.0.0a0)\n",
      "Requirement already satisfied: tf-estimator-nightly<1.14.0.dev2019030116,>=1.14.0.dev2019030115 in /home/jerome/.local/share/virtualenvs/tf-buoNMj2w/lib/python3.6/site-packages (from tensorflow==2.0.0-alpha0) (1.14.0.dev2019030115)\n",
      "Requirement already satisfied: gast>=0.2.0 in /home/jerome/.local/share/virtualenvs/tf-buoNMj2w/lib/python3.6/site-packages (from tensorflow==2.0.0-alpha0) (0.2.2)\n",
      "Requirement already satisfied: tb-nightly<1.14.0a20190302,>=1.14.0a20190301 in /home/jerome/.local/share/virtualenvs/tf-buoNMj2w/lib/python3.6/site-packages (from tensorflow==2.0.0-alpha0) (1.14.0a20190301)\n",
      "Requirement already satisfied: numpy<2.0,>=1.14.5 in /home/jerome/.local/share/virtualenvs/tf-buoNMj2w/lib/python3.6/site-packages (from tensorflow==2.0.0-alpha0) (1.16.4)\n",
      "Requirement already satisfied: wheel>=0.26 in /home/jerome/.local/share/virtualenvs/tf-buoNMj2w/lib/python3.6/site-packages (from tensorflow==2.0.0-alpha0) (0.33.4)\n",
      "Requirement already satisfied: protobuf>=3.6.1 in /home/jerome/.local/share/virtualenvs/tf-buoNMj2w/lib/python3.6/site-packages (from tensorflow==2.0.0-alpha0) (3.8.0)\n",
      "Requirement already satisfied: termcolor>=1.1.0 in /home/jerome/.local/share/virtualenvs/tf-buoNMj2w/lib/python3.6/site-packages (from tensorflow==2.0.0-alpha0) (1.1.0)\n",
      "Requirement already satisfied: astor>=0.6.0 in /home/jerome/.local/share/virtualenvs/tf-buoNMj2w/lib/python3.6/site-packages (from tensorflow==2.0.0-alpha0) (0.8.0)\n",
      "Requirement already satisfied: absl-py>=0.7.0 in /home/jerome/.local/share/virtualenvs/tf-buoNMj2w/lib/python3.6/site-packages (from tensorflow==2.0.0-alpha0) (0.7.1)\n",
      "Requirement already satisfied: keras-preprocessing>=1.0.5 in /home/jerome/.local/share/virtualenvs/tf-buoNMj2w/lib/python3.6/site-packages (from tensorflow==2.0.0-alpha0) (1.1.0)\n",
      "Requirement already satisfied: six>=1.10.0 in /home/jerome/.local/share/virtualenvs/tf-buoNMj2w/lib/python3.6/site-packages (from tensorflow==2.0.0-alpha0) (1.12.0)\n",
      "Requirement already satisfied: grpcio>=1.8.6 in /home/jerome/.local/share/virtualenvs/tf-buoNMj2w/lib/python3.6/site-packages (from tensorflow==2.0.0-alpha0) (1.21.1)\n",
      "Requirement already satisfied: google-pasta>=0.1.2 in /home/jerome/.local/share/virtualenvs/tf-buoNMj2w/lib/python3.6/site-packages (from tensorflow==2.0.0-alpha0) (0.1.7)\n",
      "Requirement already satisfied: keras-applications>=1.0.6 in /home/jerome/.local/share/virtualenvs/tf-buoNMj2w/lib/python3.6/site-packages (from tensorflow==2.0.0-alpha0) (1.0.8)\n",
      "Requirement already satisfied: markdown>=2.6.8 in /home/jerome/.local/share/virtualenvs/tf-buoNMj2w/lib/python3.6/site-packages (from tb-nightly<1.14.0a20190302,>=1.14.0a20190301->tensorflow==2.0.0-alpha0) (3.1.1)\n",
      "Requirement already satisfied: werkzeug>=0.11.15 in /home/jerome/.local/share/virtualenvs/tf-buoNMj2w/lib/python3.6/site-packages (from tb-nightly<1.14.0a20190302,>=1.14.0a20190301->tensorflow==2.0.0-alpha0) (0.15.4)\n",
      "Requirement already satisfied: setuptools in /home/jerome/.local/share/virtualenvs/tf-buoNMj2w/lib/python3.6/site-packages (from protobuf>=3.6.1->tensorflow==2.0.0-alpha0) (41.0.1)\n",
      "Requirement already satisfied: h5py in /home/jerome/.local/share/virtualenvs/tf-buoNMj2w/lib/python3.6/site-packages (from keras-applications>=1.0.6->tensorflow==2.0.0-alpha0) (2.9.0)\n"
     ]
    }
   ],
   "source": [
    "from __future__ import absolute_import, division, print_function, unicode_literals\n",
    "\n",
    "# Install TensorFlow\n",
    "!pip install tensorflow==2.0.0-alpha0\n",
    "\n",
    "import tensorflow as tf\n",
    "import numpy as np\n",
    "import math"
   ]
  },
  {
   "cell_type": "markdown",
   "metadata": {
    "colab_type": "text",
    "id": "7NAbSZiaoJ4z"
   },
   "source": [
    "Load and prepare the [MNIST dataset](http://yann.lecun.com/exdb/mnist/). Convert the samples from integers to floating-point numbers:"
   ]
  },
  {
   "cell_type": "code",
   "execution_count": 2,
   "metadata": {
    "colab": {},
    "colab_type": "code",
    "id": "7FP5258xjs-v"
   },
   "outputs": [],
   "source": [
    "# f(x) = 2x + 3\n",
    "def f(x):\n",
    "  return np.cos(x) * x\n",
    "\n",
    "x_train = np.random.rand(10000) * 10\n",
    "y_train = f(x_train)\n",
    "\n",
    "\n",
    "x_test = np.random.rand(100) * 10\n",
    "y_test = f(x_test)\n",
    "\n",
    "# Note: we are doing a regression problem (https://www.tensorflow.org/tutorials/keras/basic_regression)\n",
    "# not a classification problem.\n"
   ]
  },
  {
   "cell_type": "code",
   "execution_count": 3,
   "metadata": {},
   "outputs": [
    {
     "name": "stdout",
     "output_type": "stream",
     "text": [
      "Model: \"sequential\"\n",
      "_________________________________________________________________\n",
      "Layer (type)                 Output Shape              Param #   \n",
      "=================================================================\n",
      "dense (Dense)                (None, 128)               256       \n",
      "_________________________________________________________________\n",
      "dense_1 (Dense)              (None, 128)               16512     \n",
      "_________________________________________________________________\n",
      "dense_2 (Dense)              (None, 128)               16512     \n",
      "_________________________________________________________________\n",
      "dense_3 (Dense)              (None, 1)                 129       \n",
      "=================================================================\n",
      "Total params: 33,409\n",
      "Trainable params: 33,409\n",
      "Non-trainable params: 0\n",
      "_________________________________________________________________\n"
     ]
    }
   ],
   "source": [
    "# input shape : 1 ,  output shape : 1\n",
    "model = tf.keras.models.Sequential([\n",
    "tf.keras.layers.Dense(128, activation=tf.nn.relu, input_shape=[1]),\n",
    "tf.keras.layers.Dense(128, activation=tf.nn.relu),\n",
    "tf.keras.layers.Dense(128, activation=tf.nn.relu),\n",
    "tf.keras.layers.Dense(1)\n",
    "])\n",
    "\n",
    "optimizer = tf.keras.optimizers.RMSprop(0.001)\n",
    "\n",
    "model.compile(loss='mean_squared_error',\n",
    "            optimizer=optimizer,\n",
    "            metrics=['mean_absolute_error', 'mean_squared_error'])\n",
    "\n",
    "model.summary()"
   ]
  },
  {
   "cell_type": "code",
   "execution_count": 4,
   "metadata": {},
   "outputs": [
    {
     "name": "stdout",
     "output_type": "stream",
     "text": [
      "Epoch 1/10\n",
      "10000/10000 [==============================] - 1s 132us/sample - loss: 17.6247 - mean_absolute_error: 3.2405 - mean_squared_error: 17.6247\n",
      "Epoch 2/10\n",
      "10000/10000 [==============================] - 1s 86us/sample - loss: 9.0963 - mean_absolute_error: 2.2028 - mean_squared_error: 9.0963\n",
      "Epoch 3/10\n",
      "10000/10000 [==============================] - 1s 87us/sample - loss: 1.6442 - mean_absolute_error: 0.7431 - mean_squared_error: 1.6442\n",
      "Epoch 4/10\n",
      "10000/10000 [==============================] - 0s 41us/sample - loss: 1.3868 - mean_absolute_error: 0.6529 - mean_squared_error: 1.3868\n",
      "Epoch 5/10\n",
      "10000/10000 [==============================] - 0s 40us/sample - loss: 1.1747 - mean_absolute_error: 0.6020 - mean_squared_error: 1.1747\n",
      "Epoch 6/10\n",
      "10000/10000 [==============================] - 0s 41us/sample - loss: 0.9924 - mean_absolute_error: 0.5461 - mean_squared_error: 0.9924\n",
      "Epoch 7/10\n",
      "10000/10000 [==============================] - 0s 41us/sample - loss: 0.8181 - mean_absolute_error: 0.5092 - mean_squared_error: 0.8181\n",
      "Epoch 8/10\n",
      "10000/10000 [==============================] - 1s 51us/sample - loss: 0.6635 - mean_absolute_error: 0.4533 - mean_squared_error: 0.6635\n",
      "Epoch 9/10\n",
      "10000/10000 [==============================] - 0s 43us/sample - loss: 0.5800 - mean_absolute_error: 0.4272 - mean_squared_error: 0.5800\n",
      "Epoch 10/10\n",
      "10000/10000 [==============================] - 1s 56us/sample - loss: 0.5041 - mean_absolute_error: 0.3962 - mean_squared_error: 0.5041\n",
      "100/100 [==============================] - 0s 573us/sample - loss: 0.2212 - mean_absolute_error: 0.2866 - mean_squared_error: 0.2212\n"
     ]
    },
    {
     "data": {
      "text/plain": [
       "[0.2211514639854431, 0.28656146, 0.22115147]"
      ]
     },
     "execution_count": 4,
     "metadata": {},
     "output_type": "execute_result"
    }
   ],
   "source": [
    "model.fit(x_train, y_train, epochs=10)\n",
    "\n",
    "model.evaluate(x_test, y_test)"
   ]
  },
  {
   "cell_type": "code",
   "execution_count": 5,
   "metadata": {},
   "outputs": [],
   "source": [
    "x = np.random.rand(100) * 10\n",
    "x.sort()\n",
    "y = f(x)\n",
    "pred = model.predict(x)\n",
    "\n",
    "# for index, res in enumerate(pred):\n",
    "    # print(res)\n",
    "    # print(y[index])\n",
    "    # error = abs(res - y[index])\n",
    "    # print(error)\n",
    "    # print(\"___\")"
   ]
  },
  {
   "cell_type": "code",
   "execution_count": 6,
   "metadata": {},
   "outputs": [
    {
     "data": {
      "text/plain": [
       "<Figure size 640x480 with 1 Axes>"
      ]
     },
     "metadata": {},
     "output_type": "display_data"
    }
   ],
   "source": [
    "import matplotlib.pyplot as plt\n",
    "plt.plot(x, y)\n",
    "plt.plot(x, pred)\n",
    "plt.show()\n"
   ]
  }
 ],
 "metadata": {
  "colab": {
   "collapsed_sections": [],
   "name": "beginner.ipynb",
   "private_outputs": true,
   "provenance": [],
   "toc_visible": true,
   "version": "0.3.2"
  },
  "kernelspec": {
   "display_name": "Python 3",
   "language": "python",
   "name": "python3"
  },
  "language_info": {
   "codemirror_mode": {
    "name": "ipython",
    "version": 3
   },
   "file_extension": ".py",
   "mimetype": "text/x-python",
   "name": "python",
   "nbconvert_exporter": "python",
   "pygments_lexer": "ipython3",
   "version": "3.6.7"
  }
 },
 "nbformat": 4,
 "nbformat_minor": 2
}
